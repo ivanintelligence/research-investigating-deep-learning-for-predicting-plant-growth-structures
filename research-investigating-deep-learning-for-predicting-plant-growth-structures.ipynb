{
  "nbformat": 4,
  "nbformat_minor": 0,
  "metadata": {
    "colab": {
      "provenance": []
    },
    "kernelspec": {
      "name": "python3",
      "display_name": "Python 3"
    },
    "language_info": {
      "name": "python"
    }
  },
  "cells": [
    {
      "cell_type": "markdown",
      "source": [
        "# Import statements"
      ],
      "metadata": {
        "id": "fpwtbn4j61Ig"
      }
    },
    {
      "cell_type": "markdown",
      "source": [
        "# Import dataset"
      ],
      "metadata": {
        "id": "p2UyJcU869UH"
      }
    },
    {
      "cell_type": "markdown",
      "source": [
        "## Load dataset"
      ],
      "metadata": {
        "id": "Uh-xgyq670ow"
      }
    },
    {
      "cell_type": "markdown",
      "source": [
        "Verify if dataset has been loaded"
      ],
      "metadata": {
        "id": "h_3cBH9772-C"
      }
    },
    {
      "cell_type": "markdown",
      "source": [
        "## Split data and labels"
      ],
      "metadata": {
        "id": "Ud7hyeBe8Epe"
      }
    },
    {
      "cell_type": "markdown",
      "source": [
        "Verify if data and labels have been splitted"
      ],
      "metadata": {
        "id": "rqIooLyg88_f"
      }
    },
    {
      "cell_type": "markdown",
      "source": [
        "## Split training and validation sets"
      ],
      "metadata": {
        "id": "3ua6Vvtp8P7F"
      }
    },
    {
      "cell_type": "markdown",
      "source": [
        "Verify if training and validation sets are splitted"
      ],
      "metadata": {
        "id": "2U5NcTT09A72"
      }
    },
    {
      "cell_type": "markdown",
      "source": [
        "## Preprocess data"
      ],
      "metadata": {
        "id": "j12L1ioT8dEn"
      }
    },
    {
      "cell_type": "markdown",
      "source": [
        "# Develop model"
      ],
      "metadata": {
        "id": "cadQ_PfU7Ep9"
      }
    },
    {
      "cell_type": "markdown",
      "source": [
        "## *Iteration 1*"
      ],
      "metadata": {
        "id": "GYE5r-eG7Eil"
      }
    },
    {
      "cell_type": "markdown",
      "source": [
        "### Build model"
      ],
      "metadata": {
        "id": "LtVw_hw_7Ef-"
      }
    },
    {
      "cell_type": "markdown",
      "source": [
        "### Visualize model"
      ],
      "metadata": {
        "id": "r9Wrnz_N8uwh"
      }
    },
    {
      "cell_type": "markdown",
      "source": [
        "### Compile model"
      ],
      "metadata": {
        "id": "Gl5yZ_Zn83Rz"
      }
    },
    {
      "cell_type": "markdown",
      "source": [
        "### Train model"
      ],
      "metadata": {
        "id": "JsUBshFZ7Ed5"
      }
    },
    {
      "cell_type": "markdown",
      "source": [
        "### Plot results"
      ],
      "metadata": {
        "id": "1LXJl_VV9J9v"
      }
    },
    {
      "cell_type": "markdown",
      "source": [
        "# Test model"
      ],
      "metadata": {
        "id": "mReqKY8O7EcE"
      }
    }
  ]
}